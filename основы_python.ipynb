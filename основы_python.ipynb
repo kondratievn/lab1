{
  "cells": [
    {
      "cell_type": "markdown",
      "metadata": {
        "id": "M-DGa20PaHnu"
      },
      "source": [
        "#Задача 1\n",
        "Написать функцию на вход которой подается строка, состоящая из латинских букв.\n",
        "Функция должна вернуть количество гласных букв (a, e, i, o, u) в этой строке. Написать тесты для кода"
      ]
    },
    {
      "cell_type": "code",
      "execution_count": null,
      "metadata": {
        "id": "XvX8X_JJ6PCb"
      },
      "outputs": [],
      "source": [
        "def count_vowels(string):\n",
        "    vowels = 'aeiouAEIOU'\n",
        "    count = 0\n",
        "    for char in string:\n",
        "        if char in vowels:\n",
        "            count += 1\n",
        "    return count\n",
        "\n",
        "#Тесты для кода\n",
        "print(count_vowels(\"Python is amazing\"))   # Вывод: 5\n",
        "print(count_vowels(\"Hello, World!\"))       # Вывод: 3"
      ]
    },
    {
      "cell_type": "markdown",
      "metadata": {
        "id": "t2ClV_Y0bbr6"
      },
      "source": [
        "# Задача 2\n",
        "Написать функцию на вход, которой подается строка. Функция должна вернуть true, если\n",
        "каждый символ в строке встречается только 1 раз, иначе должна вернуть false. Написать тесты для кода"
      ]
    },
    {
      "cell_type": "code",
      "execution_count": null,
      "metadata": {
        "id": "FppbECao6VIz"
      },
      "outputs": [],
      "source": [
        "def is_unique(string):\n",
        "    seen = set()\n",
        "    for char in string:\n",
        "        if char in seen:\n",
        "            return False\n",
        "        seen.add(char)\n",
        "    return True\n",
        "\n",
        "#Тесты для кода\n",
        "print(is_unique(\"hello\"))    # Вывод: False\n",
        "print(is_unique(\"world\"))    # Вывод: True"
      ]
    },
    {
      "cell_type": "markdown",
      "metadata": {
        "id": "udRiIK1cdt6E"
      },
      "source": [
        "# Задача 3\n",
        "Написать функцию, которая принимает положительное число и возвращает количество\n",
        "бит равных 1 в этом числе. Написать тесты для кода"
      ]
    },
    {
      "cell_type": "code",
      "execution_count": null,
      "metadata": {
        "id": "6tkfDJRz6dp_"
      },
      "outputs": [],
      "source": [
        "def count_set_bits(num):\n",
        "    count = 0\n",
        "    while num:\n",
        "        count += num & 1\n",
        "        num >>= 1\n",
        "    return count\n",
        "\n",
        "#Тесты для кода\n",
        "print(count_set_bits(10))  # Вывод: 2 (бинарное представление числа 10: 1010)\n",
        "print(count_set_bits(7))   # Вывод: 3 (бинарное представление числа 7: 111)"
      ]
    },
    {
      "cell_type": "markdown",
      "metadata": {
        "id": "26dDUz-Ae17N"
      },
      "source": [
        "# Задача 4\n",
        "Написать функцию, которая принимает положительное число. Функция должна вернуть то,\n",
        "сколько раз необходимо перемножать цифры числа или результат перемножения, чтобы\n",
        "получилось число состоящее из одной цифры.\n",
        "Например, для входного числа:\n",
        "· 39 функция должна вернуть 3, так как 3*9=27 => 2*7=14 => 1*4=4\n",
        "· 4 функция должна вернуть 0, так как число уже состоит из одной цифры\n",
        "· 999 функция должна вернуть 4, так как 9*9*9=729 => 7*2*9=126 => 1*2*6=12 =>\n",
        "1*2=2. Написать тесты для кода"
      ]
    },
    {
      "cell_type": "code",
      "execution_count": null,
      "metadata": {
        "id": "BH1A_Mgi6i4G"
      },
      "outputs": [],
      "source": [
        "def multiply_digits_until_single(num):\n",
        "    if num < 10:\n",
        "        return 0\n",
        "\n",
        "    count = 0\n",
        "    while num >= 10:\n",
        "        product = 1\n",
        "        while num:\n",
        "            product *= num % 10\n",
        "            num //= 10\n",
        "        num = product\n",
        "        count += 1\n",
        "    return count\n",
        "\n",
        "#Тесты для кода\n",
        "print(multiply_digits_until_single(39))  # Вывод: 3\n",
        "print(multiply_digits_until_single(4))   # Вывод: 0\n",
        "print(multiply_digits_until_single(999)) # Вывод: 4"
      ]
    },
    {
      "cell_type": "markdown",
      "metadata": {
        "id": "0nS-kIa8g8vd"
      },
      "source": [
        "# Задача 5\n",
        "Написать функцию, которая принимает два целочисленных вектора одинаковой длины и\n",
        "возвращает среднеквадратическое отклонение двух векторов. Написать тесты для кода"
      ]
    },
    {
      "cell_type": "code",
      "execution_count": null,
      "metadata": {
        "id": "8iphx4LM6xbx"
      },
      "outputs": [],
      "source": [
        "def mse(pred, true):\n",
        "    if len(pred) != len(true):\n",
        "        raise ValueError(\"Vectors must be of equal length\")\n",
        "    \n",
        "    n = len(pred)\n",
        "    squared_diff_sum = sum((pred[i] - true[i])**2 for i in range(n))\n",
        "    mse_value = squared_diff_sum / n\n",
        "    return mse_value\n",
        "\n",
        "#Тесты для кода\n",
        "vector1 = [1, 2, 3, 4, 5]\n",
        "vector2 = [2, 3, 4, 5, 6]\n",
        "\n",
        "print(mse(vector1, vector2))  # Вывод: 1.0\n"
      ]
    },
    {
      "cell_type": "markdown",
      "metadata": {
        "id": "vpIPKL439zkw"
      },
      "source": [
        "# Задача 6\n",
        "Написать функцию, принимающая целое положительное число. Функция должна вернуть\n",
        "строку вида “(n1**p1)(n2**p2)…(nk**pk)” представляющая разложение числа на простые\n",
        "множители (если pi == 1, то выводить только ni).\n",
        "Например, для числа 86240 функция должна вернуть “(2**5)(5)(7**2)(11)”. Написать тесты для кода"
      ]
    },
    {
      "cell_type": "code",
      "execution_count": null,
      "metadata": {
        "id": "pFebmcZk94Jw"
      },
      "outputs": [],
      "source": [
        "def prime_factors(n):\n",
        "    factors = []\n",
        "    divisor = 2\n",
        "    while n > 1:\n",
        "        if n % divisor == 0:\n",
        "            count = 0\n",
        "            while n % divisor == 0:\n",
        "                n //= divisor\n",
        "                count += 1\n",
        "            factors.append((divisor, count) if count > 1 else (divisor,))\n",
        "        divisor += 1\n",
        "    return factors\n",
        "\n",
        "def format_factors(factors):\n",
        "    result = ''\n",
        "    for factor in factors:\n",
        "        result += '(' + str(factor[0])\n",
        "        if len(factor) > 1:\n",
        "            result += '**' + str(factor[1])\n",
        "        result += ')'\n",
        "    return result\n",
        "\n",
        "#Тесты для кода\n",
        "number2 = 120\n",
        "factors2 = prime_factors(number2)\n",
        "formatted_factors2 = format_factors(factors2)\n",
        "print(\"Prime factorization of\", number2, \":\", formatted_factors2)  # Вывод: (2**3)(3)(5)"
      ]
    },
    {
      "cell_type": "markdown",
      "metadata": {
        "id": "ps2s0BudX7A2"
      },
      "source": [
        "# Задача 7\n",
        "Написать функцию, принимающая целое число n, задающее количество кубиков. Функция\n",
        "должна определить, можно ли из данного кол-ва кубиков построить пирамиду, то есть\n",
        "можно ли представить число n как 1^2+2^2+3^2+…+k^2. Если можно, то функция должна\n",
        "вернуть k, иначе строку “It is impossible”. Написать тесты для кода"
      ]
    },
    {
      "cell_type": "code",
      "execution_count": null,
      "metadata": {
        "id": "3YPjEXxhX_YT"
      },
      "outputs": [],
      "source": [
        "def pyramid(number):\n",
        "    sum_of_cubes = 0\n",
        "    k = 0\n",
        "    while sum_of_cubes < number:\n",
        "        k += 1\n",
        "        sum_of_cubes += k**2\n",
        "    return k if sum_of_cubes == number else \"It is impossible\"\n",
        "\n",
        "#Тесты для кода\n",
        "print(pyramid(30))   # Вывод: 4\n",
        "print(pyramid(14))   # Вывод: It is impossible"
      ]
    },
    {
      "cell_type": "markdown",
      "metadata": {
        "id": "KeKgmIdAQMEJ"
      },
      "source": [
        "# Задача 8\n",
        "Функция принимает на вход положительное число и определяет является ли оно сбалансированным, т.е. сумма цифр до средних равна сумме цифр после. Средними в случае нечетного числа цифр считать одну цифру, в случае четного - две средних. Написать тесты для кода"
      ]
    },
    {
      "cell_type": "code",
      "execution_count": null,
      "metadata": {
        "id": "gMAAqtqlQrZt"
      },
      "outputs": [],
      "source": [
        "def is_balanced_number(num):\n",
        "    num_str = str(num)\n",
        "    length = len(num_str)\n",
        "    \n",
        "    if length % 2 == 0:\n",
        "        mid_left = length // 2 - 1\n",
        "        mid_right = length // 2\n",
        "    else:\n",
        "        mid_left = mid_right = length // 2\n",
        "    \n",
        "    sum_left = sum(map(int, num_str[:mid_left]))\n",
        "    \n",
        "    sum_right = sum(map(int, num_str[mid_right + 1:]))\n",
        "    \n",
        "    return sum_left == sum_right\n",
        "\n",
        "#Тесты для кода\n",
        "print(is_balanced_number(12321))        # Вывод: True \n",
        "print(is_balanced_number(123456789))    # Вывод: False"
      ]
    }
  ],
  "metadata": {
    "colab": {
      "provenance": []
    },
    "kernelspec": {
      "display_name": "Python 3",
      "name": "python3"
    },
    "language_info": {
      "name": "python"
    }
  },
  "nbformat": 4,
  "nbformat_minor": 0
}
